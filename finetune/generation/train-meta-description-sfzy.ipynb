{
 "cells": [
  {
   "cell_type": "code",
   "execution_count": null,
   "id": "16c3b9e0",
   "metadata": {
    "scrolled": true
   },
   "outputs": [],
   "source": [
    "!pip install rouge datasets==1.4.1 transformers==4.4.2"
   ]
  },
  {
   "cell_type": "markdown",
   "id": "d865b484",
   "metadata": {},
   "source": [
    "## preprocess data"
   ]
  },
  {
   "cell_type": "code",
   "execution_count": null,
   "id": "dae9579d",
   "metadata": {},
   "outputs": [],
   "source": [
    "import os\n",
    "\n",
    "path = './demo_data/SUMMARY.meta'\n",
    "os.makedirs(path, exist_ok=True)\n",
    "print(\"The new directory is created!\")"
   ]
  },
  {
   "cell_type": "code",
   "execution_count": null,
   "id": "946b837b",
   "metadata": {},
   "outputs": [],
   "source": [
    "## data process \n",
    "import pandas as pd\n",
    "from datasets import load_dataset\n",
    "\n",
    "df_article_summary_full = pd.read_excel('customer.xlsx', engine='openpyxl')\n",
    "\n",
    "df_article_summary_full[['正文','摘要']].to_csv(os.path.join(path,'total.csv'),index=False)\n",
    "\n",
    "total_data = pd.read_csv(os.path.join(path,'total.csv'))\n",
    "x = total_data[-total_data['摘要'].isnull()]\n",
    "x.columns = ['article','summarization']"
   ]
  },
  {
   "cell_type": "code",
   "execution_count": null,
   "id": "79b0300c",
   "metadata": {},
   "outputs": [],
   "source": [
    "x.shape"
   ]
  },
  {
   "cell_type": "code",
   "execution_count": null,
   "id": "d69a8193",
   "metadata": {},
   "outputs": [],
   "source": [
    "x[:int(x.shape[0]*0.7)].shape[0]+x[int(x.shape[0]*0.7):int(x.shape[0]*0.8)].shape[0]+x[int(x.shape[0]*0.8):].shape[0]"
   ]
  },
  {
   "cell_type": "code",
   "execution_count": null,
   "id": "93496cf3",
   "metadata": {},
   "outputs": [],
   "source": [
    "# use csv file to test \n",
    "x[:int(x.shape[0]*0.7)].to_csv(os.path.join(path,'train.csv'),index=False,encoding='utf-8')\n",
    "x[int(x.shape[0]*0.8):].to_csv(os.path.join(path,'test.csv'),index=False,encoding='utf-8')\n",
    "x[int(x.shape[0]*0.7):int(x.shape[0]*0.8)].to_csv(os.path.join(path,'dev.csv'),index=False,encoding='utf-8')"
   ]
  },
  {
   "cell_type": "markdown",
   "id": "7585c158",
   "metadata": {},
   "source": [
    "## run train"
   ]
  },
  {
   "cell_type": "code",
   "execution_count": null,
   "id": "9ddefc60",
   "metadata": {
    "scrolled": true
   },
   "outputs": [],
   "source": [
    "%%time\n",
    "!python run_gen_v2.py --model_path 'fnlp/cpt-large' --dataset meta --data_dir demo_data --epoch '1' --batch_size '2' "
   ]
  },
  {
   "cell_type": "markdown",
   "id": "b90afd20",
   "metadata": {},
   "source": [
    "## 推理"
   ]
  },
  {
   "cell_type": "code",
   "execution_count": null,
   "id": "03887e9f",
   "metadata": {},
   "outputs": [],
   "source": [
    "import sys\n",
    "sys.path.append('../')\n",
    "\n",
    "from transformers import BertTokenizer\n",
    "from modeling_cpt import CPTModel, CPTForConditionalGeneration\n",
    "\n",
    "model = CPTForConditionalGeneration.from_pretrained(\"output/meta/1\")\n",
    "tokenizer = BertTokenizer.from_pretrained('output/meta/1')\n",
    "dataset = load_dataset('csv', data_files=os.path.join(path,'test.csv'),split='train')"
   ]
  },
  {
   "cell_type": "code",
   "execution_count": null,
   "id": "6afd47df",
   "metadata": {},
   "outputs": [],
   "source": [
    "%%time\n",
    "def print_result(idx):\n",
    "    input_text = dataset[idx]['article']\n",
    "    print(\"input: \",input_text)\n",
    "\n",
    "    inputs = tokenizer(input_text, return_tensors=\"pt\",max_length=512)\n",
    "\n",
    "    #prompt_length = len(tokenizer.decode(inputs['input_ids'][0]))\n",
    "    #outputs = model.generate(inputs['input_ids'], max_length=64, do_sample=True, top_p=0.95, top_k=60)\n",
    "    outputs = model.generate(inputs['input_ids'], max_length=300, top_p=0.95)\n",
    "    generated = tokenizer.decode(outputs[0])\n",
    "\n",
    "    print(\"prediction result: \",generated)\n",
    "    \n",
    "    print ('label: ',dataset[idx]['summarization'])"
   ]
  },
  {
   "cell_type": "code",
   "execution_count": null,
   "id": "c084457e",
   "metadata": {},
   "outputs": [],
   "source": [
    "print_result(3)"
   ]
  },
  {
   "cell_type": "markdown",
   "id": "67b61040",
   "metadata": {},
   "source": [
    "## 增强训练"
   ]
  },
  {
   "cell_type": "code",
   "execution_count": null,
   "id": "dbc1d799",
   "metadata": {
    "scrolled": true
   },
   "outputs": [],
   "source": [
    "%%time\n",
    "!python run_gen_v2.py --model_path 'output/meta/1' --dataset meta --data_dir demo_data --epoch '1' --batch_size '2' "
   ]
  },
  {
   "cell_type": "code",
   "execution_count": null,
   "id": "56189c11",
   "metadata": {},
   "outputs": [],
   "source": []
  }
 ],
 "metadata": {
  "kernelspec": {
   "display_name": "conda_pytorch_latest_p36",
   "language": "python",
   "name": "conda_pytorch_latest_p36"
  },
  "language_info": {
   "codemirror_mode": {
    "name": "ipython",
    "version": 3
   },
   "file_extension": ".py",
   "mimetype": "text/x-python",
   "name": "python",
   "nbconvert_exporter": "python",
   "pygments_lexer": "ipython3",
   "version": "3.6.13"
  }
 },
 "nbformat": 4,
 "nbformat_minor": 5
}
